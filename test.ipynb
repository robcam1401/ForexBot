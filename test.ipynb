{
 "cells": [
  {
   "cell_type": "code",
   "execution_count": 12,
   "metadata": {},
   "outputs": [],
   "source": [
    "import requests\n",
    "import defs\n",
    "import pandas as pd"
   ]
  },
  {
   "cell_type": "code",
   "execution_count": 13,
   "metadata": {},
   "outputs": [],
   "source": [
    "session = requests.Session()"
   ]
  },
  {
   "cell_type": "code",
   "execution_count": 14,
   "metadata": {},
   "outputs": [],
   "source": [
    "instrument = \"EUR_USD\"\n",
    "count = 10\n",
    "granilarity = \"H1\""
   ]
  },
  {
   "cell_type": "code",
   "execution_count": 15,
   "metadata": {},
   "outputs": [],
   "source": [
    "url = f\"{defs.OANDA_URL}/instruments/{instrument}/candles\""
   ]
  },
  {
   "cell_type": "code",
   "execution_count": 16,
   "metadata": {},
   "outputs": [],
   "source": [
    "params = dict(\n",
    "    count = count,\n",
    "    granilarity = granilarity,\n",
    "    price = \"MBA\"\n",
    ")"
   ]
  },
  {
   "cell_type": "code",
   "execution_count": 17,
   "metadata": {},
   "outputs": [
    {
     "data": {
      "text/plain": [
       "{'count': 10, 'granilarity': 'H1', 'price': 'MBA'}"
      ]
     },
     "execution_count": 17,
     "metadata": {},
     "output_type": "execute_result"
    }
   ],
   "source": [
    "params"
   ]
  },
  {
   "cell_type": "code",
   "execution_count": 18,
   "metadata": {},
   "outputs": [],
   "source": [
    "response = session.get(url,params=params, headers=defs.SECURE_HEADER)"
   ]
  },
  {
   "cell_type": "code",
   "execution_count": 19,
   "metadata": {},
   "outputs": [
    {
     "data": {
      "text/plain": [
       "200"
      ]
     },
     "execution_count": 19,
     "metadata": {},
     "output_type": "execute_result"
    }
   ],
   "source": [
    "response.status_code"
   ]
  },
  {
   "cell_type": "code",
   "execution_count": 20,
   "metadata": {},
   "outputs": [],
   "source": [
    "data = response.json()"
   ]
  },
  {
   "cell_type": "code",
   "execution_count": 21,
   "metadata": {},
   "outputs": [
    {
     "data": {
      "text/plain": [
       "dict_keys(['instrument', 'granularity', 'candles'])"
      ]
     },
     "execution_count": 21,
     "metadata": {},
     "output_type": "execute_result"
    }
   ],
   "source": [
    "data.keys()"
   ]
  },
  {
   "cell_type": "code",
   "execution_count": 22,
   "metadata": {},
   "outputs": [
    {
     "data": {
      "text/plain": [
       "10"
      ]
     },
     "execution_count": 22,
     "metadata": {},
     "output_type": "execute_result"
    }
   ],
   "source": [
    "len(data['candles'])"
   ]
  },
  {
   "cell_type": "code",
   "execution_count": 25,
   "metadata": {},
   "outputs": [],
   "source": [
    "prices = ['mid','bid','ask']\n",
    "ohlc = ['o','h','l','c']"
   ]
  },
  {
   "cell_type": "code",
   "execution_count": 26,
   "metadata": {},
   "outputs": [
    {
     "name": "stdout",
     "output_type": "stream",
     "text": [
      "mid_o\n",
      "mid_h\n",
      "mid_l\n",
      "mid_c\n",
      "bid_o\n",
      "bid_h\n",
      "bid_l\n",
      "bid_c\n",
      "ask_o\n",
      "ask_h\n",
      "ask_l\n",
      "ask_c\n"
     ]
    }
   ],
   "source": [
    "for price in prices:\n",
    "    for oh in ohlc:\n",
    "        print(f\"{price}_{oh}\")"
   ]
  },
  {
   "cell_type": "code",
   "execution_count": 27,
   "metadata": {},
   "outputs": [
    {
     "data": {
      "text/plain": [
       "{'complete': True,\n",
       " 'volume': 1,\n",
       " 'time': '2023-05-29T21:03:35.000000000Z',\n",
       " 'bid': {'o': '1.07072', 'h': '1.07072', 'l': '1.07072', 'c': '1.07072'},\n",
       " 'mid': {'o': '1.07119', 'h': '1.07119', 'l': '1.07119', 'c': '1.07119'},\n",
       " 'ask': {'o': '1.07166', 'h': '1.07166', 'l': '1.07166', 'c': '1.07166'}}"
      ]
     },
     "execution_count": 27,
     "metadata": {},
     "output_type": "execute_result"
    }
   ],
   "source": [
    "data['candles'][0]"
   ]
  },
  {
   "cell_type": "code",
   "execution_count": 33,
   "metadata": {},
   "outputs": [
    {
     "name": "stdout",
     "output_type": "stream",
     "text": [
      "{'time': '2023-05-29T21:03:35.000000000Z', 'volume': 1, 'mid_o': '1.07119', 'mid_h': '1.07119', 'mid_l': '1.07119', 'mid_c': '1.07119', 'bid_o': '1.07072', 'bid_h': '1.07072', 'bid_l': '1.07072', 'bid_c': '1.07072', 'ask_o': '1.07166', 'ask_h': '1.07166', 'ask_l': '1.07166', 'ask_c': '1.07166'}\n"
     ]
    }
   ],
   "source": [
    "our_data = []\n",
    "for candle in data['candles']:\n",
    "    if candle['complete'] == False:\n",
    "        continue\n",
    "    new_dict = {}\n",
    "    new_dict['time'] = candle['time']\n",
    "    new_dict['volume'] = candle['volume']\n",
    "    for price in prices:\n",
    "        for oh in ohlc:\n",
    "            new_dict[f\"{price}_{oh}\"] = candle[price][oh]\n",
    "    our_data.append(new_dict)\n",
    "print(our_data[0])"
   ]
  },
  {
   "cell_type": "code",
   "execution_count": 34,
   "metadata": {},
   "outputs": [],
   "source": [
    "candle_df = pd.DataFrame.from_dict(our_data)"
   ]
  },
  {
   "cell_type": "code",
   "execution_count": 35,
   "metadata": {},
   "outputs": [],
   "source": [
    "candle_df.to_pickle(\"EUR_USD_H1.pkl\")"
   ]
  },
  {
   "cell_type": "code",
   "execution_count": 36,
   "metadata": {},
   "outputs": [],
   "source": [
    "test_df = pd.read_pickle(\"EUR_USD_H1.pkl\")"
   ]
  },
  {
   "cell_type": "code",
   "execution_count": 37,
   "metadata": {},
   "outputs": [
    {
     "data": {
      "text/html": [
       "<div>\n",
       "<style scoped>\n",
       "    .dataframe tbody tr th:only-of-type {\n",
       "        vertical-align: middle;\n",
       "    }\n",
       "\n",
       "    .dataframe tbody tr th {\n",
       "        vertical-align: top;\n",
       "    }\n",
       "\n",
       "    .dataframe thead th {\n",
       "        text-align: right;\n",
       "    }\n",
       "</style>\n",
       "<table border=\"1\" class=\"dataframe\">\n",
       "  <thead>\n",
       "    <tr style=\"text-align: right;\">\n",
       "      <th></th>\n",
       "      <th>time</th>\n",
       "      <th>volume</th>\n",
       "      <th>mid_o</th>\n",
       "      <th>mid_h</th>\n",
       "      <th>mid_l</th>\n",
       "      <th>mid_c</th>\n",
       "      <th>bid_o</th>\n",
       "      <th>bid_h</th>\n",
       "      <th>bid_l</th>\n",
       "      <th>bid_c</th>\n",
       "      <th>ask_o</th>\n",
       "      <th>ask_h</th>\n",
       "      <th>ask_l</th>\n",
       "      <th>ask_c</th>\n",
       "    </tr>\n",
       "  </thead>\n",
       "  <tbody>\n",
       "    <tr>\n",
       "      <th>0</th>\n",
       "      <td>2023-05-29T21:03:35.000000000Z</td>\n",
       "      <td>1</td>\n",
       "      <td>1.07119</td>\n",
       "      <td>1.07119</td>\n",
       "      <td>1.07119</td>\n",
       "      <td>1.07119</td>\n",
       "      <td>1.07072</td>\n",
       "      <td>1.07072</td>\n",
       "      <td>1.07072</td>\n",
       "      <td>1.07072</td>\n",
       "      <td>1.07166</td>\n",
       "      <td>1.07166</td>\n",
       "      <td>1.07166</td>\n",
       "      <td>1.07166</td>\n",
       "    </tr>\n",
       "    <tr>\n",
       "      <th>1</th>\n",
       "      <td>2023-05-29T21:03:45.000000000Z</td>\n",
       "      <td>1</td>\n",
       "      <td>1.07116</td>\n",
       "      <td>1.07116</td>\n",
       "      <td>1.07116</td>\n",
       "      <td>1.07116</td>\n",
       "      <td>1.07067</td>\n",
       "      <td>1.07067</td>\n",
       "      <td>1.07067</td>\n",
       "      <td>1.07067</td>\n",
       "      <td>1.07165</td>\n",
       "      <td>1.07165</td>\n",
       "      <td>1.07165</td>\n",
       "      <td>1.07165</td>\n",
       "    </tr>\n",
       "    <tr>\n",
       "      <th>2</th>\n",
       "      <td>2023-05-29T21:04:20.000000000Z</td>\n",
       "      <td>1</td>\n",
       "      <td>1.07115</td>\n",
       "      <td>1.07115</td>\n",
       "      <td>1.07115</td>\n",
       "      <td>1.07115</td>\n",
       "      <td>1.07065</td>\n",
       "      <td>1.07065</td>\n",
       "      <td>1.07065</td>\n",
       "      <td>1.07065</td>\n",
       "      <td>1.07165</td>\n",
       "      <td>1.07165</td>\n",
       "      <td>1.07165</td>\n",
       "      <td>1.07165</td>\n",
       "    </tr>\n",
       "    <tr>\n",
       "      <th>3</th>\n",
       "      <td>2023-05-29T21:05:00.000000000Z</td>\n",
       "      <td>7</td>\n",
       "      <td>1.07113</td>\n",
       "      <td>1.07116</td>\n",
       "      <td>1.07108</td>\n",
       "      <td>1.07108</td>\n",
       "      <td>1.07064</td>\n",
       "      <td>1.07069</td>\n",
       "      <td>1.07061</td>\n",
       "      <td>1.07062</td>\n",
       "      <td>1.07162</td>\n",
       "      <td>1.07163</td>\n",
       "      <td>1.07154</td>\n",
       "      <td>1.07154</td>\n",
       "    </tr>\n",
       "    <tr>\n",
       "      <th>4</th>\n",
       "      <td>2023-05-29T21:05:05.000000000Z</td>\n",
       "      <td>2</td>\n",
       "      <td>1.07108</td>\n",
       "      <td>1.07108</td>\n",
       "      <td>1.07108</td>\n",
       "      <td>1.07108</td>\n",
       "      <td>1.07063</td>\n",
       "      <td>1.07063</td>\n",
       "      <td>1.07062</td>\n",
       "      <td>1.07062</td>\n",
       "      <td>1.07153</td>\n",
       "      <td>1.07154</td>\n",
       "      <td>1.07153</td>\n",
       "      <td>1.07154</td>\n",
       "    </tr>\n",
       "    <tr>\n",
       "      <th>5</th>\n",
       "      <td>2023-05-29T21:05:10.000000000Z</td>\n",
       "      <td>3</td>\n",
       "      <td>1.07110</td>\n",
       "      <td>1.07110</td>\n",
       "      <td>1.07106</td>\n",
       "      <td>1.07106</td>\n",
       "      <td>1.07066</td>\n",
       "      <td>1.07066</td>\n",
       "      <td>1.07060</td>\n",
       "      <td>1.07061</td>\n",
       "      <td>1.07155</td>\n",
       "      <td>1.07155</td>\n",
       "      <td>1.07151</td>\n",
       "      <td>1.07151</td>\n",
       "    </tr>\n",
       "    <tr>\n",
       "      <th>6</th>\n",
       "      <td>2023-05-29T21:05:30.000000000Z</td>\n",
       "      <td>2</td>\n",
       "      <td>1.07107</td>\n",
       "      <td>1.07108</td>\n",
       "      <td>1.07107</td>\n",
       "      <td>1.07108</td>\n",
       "      <td>1.07063</td>\n",
       "      <td>1.07065</td>\n",
       "      <td>1.07063</td>\n",
       "      <td>1.07065</td>\n",
       "      <td>1.07151</td>\n",
       "      <td>1.07151</td>\n",
       "      <td>1.07151</td>\n",
       "      <td>1.07151</td>\n",
       "    </tr>\n",
       "    <tr>\n",
       "      <th>7</th>\n",
       "      <td>2023-05-29T21:05:35.000000000Z</td>\n",
       "      <td>1</td>\n",
       "      <td>1.07121</td>\n",
       "      <td>1.07121</td>\n",
       "      <td>1.07121</td>\n",
       "      <td>1.07121</td>\n",
       "      <td>1.07082</td>\n",
       "      <td>1.07082</td>\n",
       "      <td>1.07082</td>\n",
       "      <td>1.07082</td>\n",
       "      <td>1.07160</td>\n",
       "      <td>1.07160</td>\n",
       "      <td>1.07160</td>\n",
       "      <td>1.07160</td>\n",
       "    </tr>\n",
       "    <tr>\n",
       "      <th>8</th>\n",
       "      <td>2023-05-29T21:05:50.000000000Z</td>\n",
       "      <td>1</td>\n",
       "      <td>1.07122</td>\n",
       "      <td>1.07122</td>\n",
       "      <td>1.07122</td>\n",
       "      <td>1.07122</td>\n",
       "      <td>1.07084</td>\n",
       "      <td>1.07084</td>\n",
       "      <td>1.07084</td>\n",
       "      <td>1.07084</td>\n",
       "      <td>1.07161</td>\n",
       "      <td>1.07161</td>\n",
       "      <td>1.07161</td>\n",
       "      <td>1.07161</td>\n",
       "    </tr>\n",
       "    <tr>\n",
       "      <th>9</th>\n",
       "      <td>2023-05-29T21:05:55.000000000Z</td>\n",
       "      <td>1</td>\n",
       "      <td>1.07122</td>\n",
       "      <td>1.07122</td>\n",
       "      <td>1.07122</td>\n",
       "      <td>1.07122</td>\n",
       "      <td>1.07083</td>\n",
       "      <td>1.07083</td>\n",
       "      <td>1.07083</td>\n",
       "      <td>1.07083</td>\n",
       "      <td>1.07161</td>\n",
       "      <td>1.07161</td>\n",
       "      <td>1.07161</td>\n",
       "      <td>1.07161</td>\n",
       "    </tr>\n",
       "  </tbody>\n",
       "</table>\n",
       "</div>"
      ],
      "text/plain": [
       "                             time  volume    mid_o    mid_h    mid_l    mid_c   \n",
       "0  2023-05-29T21:03:35.000000000Z       1  1.07119  1.07119  1.07119  1.07119  \\\n",
       "1  2023-05-29T21:03:45.000000000Z       1  1.07116  1.07116  1.07116  1.07116   \n",
       "2  2023-05-29T21:04:20.000000000Z       1  1.07115  1.07115  1.07115  1.07115   \n",
       "3  2023-05-29T21:05:00.000000000Z       7  1.07113  1.07116  1.07108  1.07108   \n",
       "4  2023-05-29T21:05:05.000000000Z       2  1.07108  1.07108  1.07108  1.07108   \n",
       "5  2023-05-29T21:05:10.000000000Z       3  1.07110  1.07110  1.07106  1.07106   \n",
       "6  2023-05-29T21:05:30.000000000Z       2  1.07107  1.07108  1.07107  1.07108   \n",
       "7  2023-05-29T21:05:35.000000000Z       1  1.07121  1.07121  1.07121  1.07121   \n",
       "8  2023-05-29T21:05:50.000000000Z       1  1.07122  1.07122  1.07122  1.07122   \n",
       "9  2023-05-29T21:05:55.000000000Z       1  1.07122  1.07122  1.07122  1.07122   \n",
       "\n",
       "     bid_o    bid_h    bid_l    bid_c    ask_o    ask_h    ask_l    ask_c  \n",
       "0  1.07072  1.07072  1.07072  1.07072  1.07166  1.07166  1.07166  1.07166  \n",
       "1  1.07067  1.07067  1.07067  1.07067  1.07165  1.07165  1.07165  1.07165  \n",
       "2  1.07065  1.07065  1.07065  1.07065  1.07165  1.07165  1.07165  1.07165  \n",
       "3  1.07064  1.07069  1.07061  1.07062  1.07162  1.07163  1.07154  1.07154  \n",
       "4  1.07063  1.07063  1.07062  1.07062  1.07153  1.07154  1.07153  1.07154  \n",
       "5  1.07066  1.07066  1.07060  1.07061  1.07155  1.07155  1.07151  1.07151  \n",
       "6  1.07063  1.07065  1.07063  1.07065  1.07151  1.07151  1.07151  1.07151  \n",
       "7  1.07082  1.07082  1.07082  1.07082  1.07160  1.07160  1.07160  1.07160  \n",
       "8  1.07084  1.07084  1.07084  1.07084  1.07161  1.07161  1.07161  1.07161  \n",
       "9  1.07083  1.07083  1.07083  1.07083  1.07161  1.07161  1.07161  1.07161  "
      ]
     },
     "execution_count": 37,
     "metadata": {},
     "output_type": "execute_result"
    }
   ],
   "source": [
    "test_df"
   ]
  },
  {
   "cell_type": "code",
   "execution_count": null,
   "metadata": {},
   "outputs": [],
   "source": []
  }
 ],
 "metadata": {
  "kernelspec": {
   "display_name": "venv",
   "language": "python",
   "name": "python3"
  },
  "language_info": {
   "codemirror_mode": {
    "name": "ipython",
    "version": 3
   },
   "file_extension": ".py",
   "mimetype": "text/x-python",
   "name": "python",
   "nbconvert_exporter": "python",
   "pygments_lexer": "ipython3",
   "version": "3.11.3"
  },
  "orig_nbformat": 4
 },
 "nbformat": 4,
 "nbformat_minor": 2
}
