{
 "cells": [
  {
   "cell_type": "code",
   "execution_count": 121,
   "metadata": {},
   "outputs": [],
   "source": [
    "import defs\n",
    "import requests\n",
    "import pandas as pd"
   ]
  },
  {
   "cell_type": "code",
   "execution_count": 122,
   "metadata": {},
   "outputs": [],
   "source": [
    "session = requests.Session()"
   ]
  },
  {
   "cell_type": "code",
   "execution_count": 123,
   "metadata": {},
   "outputs": [],
   "source": [
    "url = f\"{defs.OANDA_URL}/accounts/{defs.ACCOUNT_ID}/instruments\""
   ]
  },
  {
   "cell_type": "code",
   "execution_count": 124,
   "metadata": {},
   "outputs": [],
   "source": [
    "response = session.get(url,params=None, headers=defs.SECURE_HEADER)"
   ]
  },
  {
   "cell_type": "code",
   "execution_count": 125,
   "metadata": {},
   "outputs": [],
   "source": [
    "data = response.json()"
   ]
  },
  {
   "cell_type": "code",
   "execution_count": 126,
   "metadata": {},
   "outputs": [
    {
     "data": {
      "text/plain": [
       "dict_keys(['instruments', 'lastTransactionID'])"
      ]
     },
     "execution_count": 126,
     "metadata": {},
     "output_type": "execute_result"
    }
   ],
   "source": [
    "data.keys()"
   ]
  },
  {
   "cell_type": "code",
   "execution_count": 127,
   "metadata": {},
   "outputs": [],
   "source": [
    "insturments = data['instruments']"
   ]
  },
  {
   "cell_type": "code",
   "execution_count": 128,
   "metadata": {},
   "outputs": [
    {
     "data": {
      "text/plain": [
       "68"
      ]
     },
     "execution_count": 128,
     "metadata": {},
     "output_type": "execute_result"
    }
   ],
   "source": [
    "len(insturments)"
   ]
  },
  {
   "cell_type": "code",
   "execution_count": 129,
   "metadata": {},
   "outputs": [
    {
     "data": {
      "text/plain": [
       "dict_keys(['name', 'type', 'displayName', 'pipLocation', 'displayPrecision', 'tradeUnitsPrecision', 'minimumTradeSize', 'maximumTrailingStopDistance', 'minimumTrailingStopDistance', 'maximumPositionSize', 'maximumOrderUnits', 'marginRate', 'guaranteedStopLossOrderMode', 'tags', 'financing'])"
      ]
     },
     "execution_count": 129,
     "metadata": {},
     "output_type": "execute_result"
    }
   ],
   "source": [
    "insturments[0].keys()"
   ]
  },
  {
   "cell_type": "code",
   "execution_count": 130,
   "metadata": {},
   "outputs": [],
   "source": [
    "insturment_data = []\n",
    "for item in insturments:\n",
    "    new_obj = dict(\n",
    "        name = item['name'],\n",
    "        type = item['type'],\n",
    "        displayName = item['displayName'],\n",
    "        pipLocation = item['pipLocation'],\n",
    "        marginRate = item['marginRate'],\n",
    "    )\n",
    "    insturment_data.append(new_obj)"
   ]
  },
  {
   "cell_type": "code",
   "execution_count": 131,
   "metadata": {},
   "outputs": [
    {
     "name": "stdout",
     "output_type": "stream",
     "text": [
      "{'name': 'GBP_SGD', 'type': 'CURRENCY', 'displayName': 'GBP/SGD', 'pipLocation': -4, 'marginRate': '0.05'}\n",
      "{'name': 'USD_SEK', 'type': 'CURRENCY', 'displayName': 'USD/SEK', 'pipLocation': -4, 'marginRate': '0.03'}\n",
      "{'name': 'EUR_DKK', 'type': 'CURRENCY', 'displayName': 'EUR/DKK', 'pipLocation': -4, 'marginRate': '0.1'}\n"
     ]
    }
   ],
   "source": [
    "for item in insturment_data[0:3]:\n",
    "    print(item)\n"
   ]
  },
  {
   "cell_type": "code",
   "execution_count": 132,
   "metadata": {},
   "outputs": [],
   "source": [
    "insturment_df = pd.DataFrame.from_dict(insturment_data)"
   ]
  },
  {
   "cell_type": "code",
   "execution_count": 133,
   "metadata": {},
   "outputs": [
    {
     "data": {
      "text/html": [
       "<div>\n",
       "<style scoped>\n",
       "    .dataframe tbody tr th:only-of-type {\n",
       "        vertical-align: middle;\n",
       "    }\n",
       "\n",
       "    .dataframe tbody tr th {\n",
       "        vertical-align: top;\n",
       "    }\n",
       "\n",
       "    .dataframe thead th {\n",
       "        text-align: right;\n",
       "    }\n",
       "</style>\n",
       "<table border=\"1\" class=\"dataframe\">\n",
       "  <thead>\n",
       "    <tr style=\"text-align: right;\">\n",
       "      <th></th>\n",
       "      <th>name</th>\n",
       "      <th>type</th>\n",
       "      <th>displayName</th>\n",
       "      <th>pipLocation</th>\n",
       "      <th>marginRate</th>\n",
       "    </tr>\n",
       "  </thead>\n",
       "  <tbody>\n",
       "    <tr>\n",
       "      <th>0</th>\n",
       "      <td>GBP_SGD</td>\n",
       "      <td>CURRENCY</td>\n",
       "      <td>GBP/SGD</td>\n",
       "      <td>-4</td>\n",
       "      <td>0.05</td>\n",
       "    </tr>\n",
       "    <tr>\n",
       "      <th>1</th>\n",
       "      <td>USD_SEK</td>\n",
       "      <td>CURRENCY</td>\n",
       "      <td>USD/SEK</td>\n",
       "      <td>-4</td>\n",
       "      <td>0.03</td>\n",
       "    </tr>\n",
       "    <tr>\n",
       "      <th>2</th>\n",
       "      <td>EUR_DKK</td>\n",
       "      <td>CURRENCY</td>\n",
       "      <td>EUR/DKK</td>\n",
       "      <td>-4</td>\n",
       "      <td>0.1</td>\n",
       "    </tr>\n",
       "    <tr>\n",
       "      <th>3</th>\n",
       "      <td>CAD_CHF</td>\n",
       "      <td>CURRENCY</td>\n",
       "      <td>CAD/CHF</td>\n",
       "      <td>-4</td>\n",
       "      <td>0.04</td>\n",
       "    </tr>\n",
       "    <tr>\n",
       "      <th>4</th>\n",
       "      <td>USD_CZK</td>\n",
       "      <td>CURRENCY</td>\n",
       "      <td>USD/CZK</td>\n",
       "      <td>-4</td>\n",
       "      <td>0.05</td>\n",
       "    </tr>\n",
       "    <tr>\n",
       "      <th>...</th>\n",
       "      <td>...</td>\n",
       "      <td>...</td>\n",
       "      <td>...</td>\n",
       "      <td>...</td>\n",
       "      <td>...</td>\n",
       "    </tr>\n",
       "    <tr>\n",
       "      <th>63</th>\n",
       "      <td>EUR_AUD</td>\n",
       "      <td>CURRENCY</td>\n",
       "      <td>EUR/AUD</td>\n",
       "      <td>-4</td>\n",
       "      <td>0.03</td>\n",
       "    </tr>\n",
       "    <tr>\n",
       "      <th>64</th>\n",
       "      <td>GBP_AUD</td>\n",
       "      <td>CURRENCY</td>\n",
       "      <td>GBP/AUD</td>\n",
       "      <td>-4</td>\n",
       "      <td>0.05</td>\n",
       "    </tr>\n",
       "    <tr>\n",
       "      <th>65</th>\n",
       "      <td>USD_PLN</td>\n",
       "      <td>CURRENCY</td>\n",
       "      <td>USD/PLN</td>\n",
       "      <td>-4</td>\n",
       "      <td>0.05</td>\n",
       "    </tr>\n",
       "    <tr>\n",
       "      <th>66</th>\n",
       "      <td>EUR_CHF</td>\n",
       "      <td>CURRENCY</td>\n",
       "      <td>EUR/CHF</td>\n",
       "      <td>-4</td>\n",
       "      <td>0.04</td>\n",
       "    </tr>\n",
       "    <tr>\n",
       "      <th>67</th>\n",
       "      <td>EUR_ZAR</td>\n",
       "      <td>CURRENCY</td>\n",
       "      <td>EUR/ZAR</td>\n",
       "      <td>-4</td>\n",
       "      <td>0.07</td>\n",
       "    </tr>\n",
       "  </tbody>\n",
       "</table>\n",
       "<p>68 rows × 5 columns</p>\n",
       "</div>"
      ],
      "text/plain": [
       "       name      type displayName  pipLocation marginRate\n",
       "0   GBP_SGD  CURRENCY     GBP/SGD           -4       0.05\n",
       "1   USD_SEK  CURRENCY     USD/SEK           -4       0.03\n",
       "2   EUR_DKK  CURRENCY     EUR/DKK           -4        0.1\n",
       "3   CAD_CHF  CURRENCY     CAD/CHF           -4       0.04\n",
       "4   USD_CZK  CURRENCY     USD/CZK           -4       0.05\n",
       "..      ...       ...         ...          ...        ...\n",
       "63  EUR_AUD  CURRENCY     EUR/AUD           -4       0.03\n",
       "64  GBP_AUD  CURRENCY     GBP/AUD           -4       0.05\n",
       "65  USD_PLN  CURRENCY     USD/PLN           -4       0.05\n",
       "66  EUR_CHF  CURRENCY     EUR/CHF           -4       0.04\n",
       "67  EUR_ZAR  CURRENCY     EUR/ZAR           -4       0.07\n",
       "\n",
       "[68 rows x 5 columns]"
      ]
     },
     "execution_count": 133,
     "metadata": {},
     "output_type": "execute_result"
    }
   ],
   "source": [
    "insturment_df"
   ]
  },
  {
   "cell_type": "code",
   "execution_count": 134,
   "metadata": {},
   "outputs": [],
   "source": [
    "insturment_df.to_pickle(\"instruments.pkl\")"
   ]
  },
  {
   "cell_type": "code",
   "execution_count": null,
   "metadata": {},
   "outputs": [],
   "source": []
  }
 ],
 "metadata": {
  "kernelspec": {
   "display_name": "venv",
   "language": "python",
   "name": "python3"
  },
  "language_info": {
   "codemirror_mode": {
    "name": "ipython",
    "version": 3
   },
   "file_extension": ".py",
   "mimetype": "text/x-python",
   "name": "python",
   "nbconvert_exporter": "python",
   "pygments_lexer": "ipython3",
   "version": "3.11.3"
  },
  "orig_nbformat": 4
 },
 "nbformat": 4,
 "nbformat_minor": 2
}
